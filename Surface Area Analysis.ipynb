{
 "cells": [
  {
   "cell_type": "markdown",
   "id": "f9278413-3725-4ada-9762-e365594fa8c7",
   "metadata": {},
   "source": [
    "Surface Area Analysis - monoHKUST-1"
   ]
  },
  {
   "cell_type": "code",
   "execution_count": 17,
   "id": "18de621a-88d0-45f4-a2ed-149b5c3ecf6d",
   "metadata": {},
   "outputs": [],
   "source": [
    "import pygaps\n",
    "import pygaps.characterisation as pgc\n",
    "import pygaps.parsing as pgp\n",
    "import pygaps.graphing as pgg\n",
    "import numpy as np\n",
    "import pandas as pd\n",
    "from datetime import datetime\n",
    "import os, glob, pathlib\n",
    "import matplotlib as mpl\n",
    "import matplotlib.pyplot as plt\n",
    "import matplotlib.gridspec as gridspec\n",
    "from mpl_toolkits.axes_grid1.inset_locator import inset_axes\n",
    "from matplotlib import cm\n",
    "colorwheel = cm.get_cmap('plasma')\n",
    "%matplotlib qt"
   ]
  },
  {
   "cell_type": "markdown",
   "id": "05db3d48-e411-43a0-b6a4-1b63348c7747",
   "metadata": {},
   "source": [
    "77 K N2 - monoHKUST-1 (40 min Centrifuge)"
   ]
  },
  {
   "cell_type": "code",
   "execution_count": 30,
   "id": "12a35917-8e2e-4ac3-8df5-b4b1b354a85c",
   "metadata": {},
   "outputs": [
    {
     "name": "stdout",
     "output_type": "stream",
     "text": [
      "BET area: a = 4486 m2/g\n",
      "The BET constant is: C = 19452.7\n",
      "Minimum pressure point is 0.000637 and maximum is 0.0338\n",
      "Statistical monolayer at: n = 0.046 mol/g\n",
      "The slope of the BET fit: s = 21.7\n",
      "The intercept of the BET fit: i = 0.00112\n",
      "\n"
     ]
    }
   ],
   "source": [
    "Absolute_Pressure_mmHg = [0.005339,0.031487,0.058838,0.113337,0.235903,0.464491,0.931247,\n",
    "                          1.958712,3.713447,7.269003,24.661057,49.905937,62.719299,77.576233,\n",
    "                          92.68634,107.781845,123.242538,138.34494,153.442505,191.468994,\n",
    "                          230.40918,268.010437,306.409454,344.614105,382.930359,421.224854,\n",
    "                          459.482758,497.699707,536.006226,574.246155,626.828735,642.114685,\n",
    "                          650.949707,670.102417,703.352661,722.403931,727.363831,746.460938,\n",
    "                          763.776672]\n",
    "\n",
    "Quantity_Adsorbed_ccpergSTP = [0.0988,167.2958,207.7669,251.5723,265.6424,274.9455,280.5538,\n",
    "                                  284.926,288.2276,291.72,300.1183,307,309.1237,311.0183,\n",
    "                                  312.6195,313.9575,315.127,316.1584,316.996,318.7764,320.1488,\n",
    "                                  321.176,322.0219,322.6512,323.119,323.4933,323.7937,323.9798,\n",
    "                                  324.1151,324.1792,324.1188,324.3333,324.4745,324.4923,324.4592,\n",
    "                                  324.5753,324.7066,324.9884,326.7393]\n",
    "\n",
    "HKUST1_40min = pygaps.PointIsotherm(\n",
    "    pressure=Absolute_Pressure_mmHg,\n",
    "    loading=Quantity_Adsorbed_ccpergSTP,\n",
    "    m='HKUST-1',\n",
    "    a='nitrogen',\n",
    "    t='77',\n",
    "    temperature_unit='K',\n",
    "    pressure_mode='absolute',\n",
    "    pressure_unit ='mmHg',\n",
    "    loading_basis='volume_gas',\n",
    "    loading_unit='cc',\n",
    "    material_basis='mass',\n",
    "    material_unit='g'\n",
    ")\n",
    "\n",
    "pgg.plot_iso(HKUST1_40min)\n",
    "HKUST1_40minBET = pgc.area_BET(HKUST1_40min,p_limits=(0.0004, 0.04), verbose=True)"
   ]
  },
  {
   "cell_type": "code",
   "execution_count": null,
   "id": "c96a5207-7064-405b-9b4e-22460670e53d",
   "metadata": {},
   "outputs": [],
   "source": []
  }
 ],
 "metadata": {
  "kernelspec": {
   "display_name": "Python 3 (ipykernel)",
   "language": "python",
   "name": "python3"
  },
  "language_info": {
   "codemirror_mode": {
    "name": "ipython",
    "version": 3
   },
   "file_extension": ".py",
   "mimetype": "text/x-python",
   "name": "python",
   "nbconvert_exporter": "python",
   "pygments_lexer": "ipython3",
   "version": "3.9.13"
  }
 },
 "nbformat": 4,
 "nbformat_minor": 5
}
