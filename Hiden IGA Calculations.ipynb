{
 "cells": [
  {
   "cell_type": "code",
   "execution_count": 1,
   "id": "84a0301b-37ea-4b9f-a304-23328f0d3895",
   "metadata": {},
   "outputs": [],
   "source": [
    "import matplotlib as mpl\n",
    "import matplotlib.pyplot as plt\n",
    "import matplotlib.gridspec as gridspec\n",
    "from mpl_toolkits.axes_grid1.inset_locator import inset_axes\n",
    "import numpy as np\n",
    "import pandas as pd\n",
    "import os, glob\n",
    "import pathlib"
   ]
  },
  {
   "cell_type": "markdown",
   "id": "cb37ebc2-9331-458c-8a36-6cd2d268f81e",
   "metadata": {},
   "source": [
    "Define Functions"
   ]
  },
  {
   "cell_type": "markdown",
   "id": "51878fb9-3fe5-4042-809a-9e0ece2e3d7c",
   "metadata": {},
   "source": [
    "Import Data Function"
   ]
  },
  {
   "cell_type": "code",
   "execution_count": 2,
   "id": "e6cc0cb7-8a2b-4ea3-99e9-20162f854d29",
   "metadata": {},
   "outputs": [],
   "source": [
    "def IGA_Import(file):\n",
    "    df_header = pd.read_csv(\n",
    "        file,\n",
    "        sep='= ',\n",
    "        nrows=33, \n",
    "        header=None\n",
    "    )\n",
    "    \n",
    "    df = pd.read_csv(\n",
    "        file,\n",
    "        delim_whitespace=True, \n",
    "        skiprows=35, \n",
    "        skipfooter=1, \n",
    "        header=None, \n",
    "        engine='python'\n",
    "    )\n",
    "    \n",
    "    header = df_header[1].values.tolist()\n",
    "    df.columns = header\n",
    "    \n",
    "    return(df)"
   ]
  },
  {
   "cell_type": "code",
   "execution_count": 49,
   "id": "9b21e79f-34cc-4c08-8d80-701b190790bc",
   "metadata": {},
   "outputs": [],
   "source": [
    "def HumidityCheck(Adsorption):\n",
    "    # Antoine Equation Paramters\n",
    "    A = 8.07131\n",
    "    B = 1730.63\n",
    "    C = 233.426\n",
    "\n",
    "    #P/P0 for water set by the MFC (torr)\n",
    "    P_0 = 10**(A-(B/(C+Adsorption['VG1 Temp (°C)'])))\n",
    "    P_w = 10**(A-(B/(C+Adsorption['VG1 Temp (°C)'])))*(\n",
    "        Adsorption['Inlet A NITROGEN (ml/min)']/\n",
    "        (Adsorption['Inlet A NITROGEN (ml/min)']+\n",
    "         Adsorption['Inlet B NITROGEN (ml/min)']+\n",
    "         Adsorption['Inlet D NITROGEN (ml/min)'])) \n",
    "\n",
    "    RH = (P_w.iat[-1]/P_0.iat[-1])*100   \n",
    "    return(RH)"
   ]
  },
  {
   "cell_type": "code",
   "execution_count": 4,
   "id": "b194b469-1895-4294-a480-93d1dddbd89c",
   "metadata": {},
   "outputs": [],
   "source": [
    "def CarbonCapture(Adsorption, Desorption):\n",
    "    Adsorbed_Mass_Uptake = (\n",
    "        (Adsorption['Total Weight (mg)'].max()-Adsorption['Total Weight (mg)'].min())/\n",
    "        (Adsorption['Total Weight (mg)'].min())*100)\n",
    "    \n",
    "    p_H2O = 18.016*((Desorption['H2O (torr)'].fillna(0)/Desorption['N2 (torr)'].fillna(0)).sum())\n",
    "    p_CO2 = 44.01*((Desorption['CO2 (torr)'].fillna(0)/Desorption['N2 (torr)'].fillna(0)).sum())\n",
    "    \n",
    "    CO2_Fraction = p_CO2/(p_H2O+p_CO2)\n",
    "    CapturedCarbon = CO2_Fraction*Adsorbed_Mass_Uptake\n",
    "    \n",
    "    print('CO2 Fraction:', CO2_Fraction)\n",
    "    print('Carbon Captured:', CapturedCarbon, 'wt.% CO2')\n",
    "    \n",
    "    return(Adsorbed_Mass_Uptake,CapturedCarbon)"
   ]
  },
  {
   "cell_type": "markdown",
   "id": "fb79e019-7c3c-4b56-9fd7-e71df340aa95",
   "metadata": {},
   "source": [
    "Import Data"
   ]
  },
  {
   "cell_type": "code",
   "execution_count": 43,
   "id": "761c1cd6-594d-47b5-9fe5-2837d7197523",
   "metadata": {},
   "outputs": [],
   "source": [
    "data1 = IGA_Import(file='Data_WO2F4-1-Ni_75%RH_400ppm_293K_300sccm_2h-Adsorption.txt')\n",
    "activation = data1.iloc[:7195]\n",
    "adsorption = data1.iloc[15602:22792]\n",
    "data2 = IGA_Import(file='Data_WO2F4-1-Ni_75%RH_400ppm_293K_300sccm_2h-Desorption.txt')\n",
    "desorption = data2.iloc[:7198]"
   ]
  },
  {
   "cell_type": "code",
   "execution_count": 133,
   "id": "d08da868-c7c2-4f9a-bdc0-519ee597c48f",
   "metadata": {},
   "outputs": [],
   "source": [
    "data3 = IGA_Import(file='Data_NbOFFIVE-1-Ni_75%RH_400ppmCO2_293K_300sccm_2h-Adsorption.txt')\n",
    "Nb_ads = data3.iloc[:6934]\n",
    "Nb_des = data3.iloc[6935:13854]\n",
    "data4 = IGA_Import(file='Data_NbOFFIVE-1-Ni_75%RH_400ppmCO2_293K_300sccm_2h-Desorption.txt')\n",
    "Nb_activation = data4.iloc[:7097]"
   ]
  },
  {
   "cell_type": "markdown",
   "id": "4346772e-2fcc-4eb1-aaab-f8080425c88f",
   "metadata": {},
   "source": [
    "Some Calculations"
   ]
  },
  {
   "cell_type": "markdown",
   "id": "cd5b6a56-2c69-474a-8437-68cbe1cbe55c",
   "metadata": {},
   "source": [
    "Capture CO2 Calculation Function"
   ]
  },
  {
   "cell_type": "code",
   "execution_count": 52,
   "id": "0a52f136-1be0-4539-bd43-4847eb26e429",
   "metadata": {},
   "outputs": [
    {
     "name": "stdout",
     "output_type": "stream",
     "text": [
      "CO2 Fraction: 0.2929032668053835\n",
      "Carbon Captured: 3.013020816149681 wt.% CO2\n",
      "total uptake: 10.286743637282992 wt. %\n",
      "Relative Humidity: 74.99082630016348 %\n"
     ]
    }
   ],
   "source": [
    "Adsorbed_Mass_Uptake, CarbonCaptured = CarbonCapture(Adsorption=adsorption,Desorption=desorption)\n",
    "print(\"total uptake:\", Adsorbed_Mass_Uptake, 'wt. %')\n",
    "RelativeHumidity = HumidityCheck(Adsorption=adsorption)\n",
    "print(\"Relative Humidity:\", RelativeHumidity, '%')"
   ]
  }
 ],
 "metadata": {
  "kernelspec": {
   "display_name": "Python 3 (ipykernel)",
   "language": "python",
   "name": "python3"
  },
  "language_info": {
   "codemirror_mode": {
    "name": "ipython",
    "version": 3
   },
   "file_extension": ".py",
   "mimetype": "text/x-python",
   "name": "python",
   "nbconvert_exporter": "python",
   "pygments_lexer": "ipython3",
   "version": "3.9.19"
  }
 },
 "nbformat": 4,
 "nbformat_minor": 5
}
