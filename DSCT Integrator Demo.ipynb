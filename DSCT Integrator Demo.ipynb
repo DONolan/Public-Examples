{
 "cells": [
  {
   "cell_type": "markdown",
   "id": "e5af7c76-8e31-4039-9ff1-bb2bc14dcd8e",
   "metadata": {},
   "source": [
    "# 1. Monolith DSCT\n",
    "\n",
    "Demo of DSCT "
   ]
  },
  {
   "cell_type": "markdown",
   "id": "fc164c22-cd46-4540-b97b-400e7230cb4e",
   "metadata": {},
   "source": [
    "# 2. Library Import"
   ]
  },
  {
   "cell_type": "code",
   "execution_count": 1,
   "id": "28662ecb-ec38-4380-87f4-7f8bcf9d60ad",
   "metadata": {},
   "outputs": [],
   "source": [
    "%matplotlib widget"
   ]
  },
  {
   "cell_type": "code",
   "execution_count": 2,
   "id": "32a8ca42-2969-417b-ada6-9f50cac3d741",
   "metadata": {},
   "outputs": [
    {
     "name": "stderr",
     "output_type": "stream",
     "text": [
      "UNSUPPORTED (log once): buildComputeProgram: cl2Metal failed\n",
      "WARNING:pyFAI.gui.matplotlib:matplotlib already loaded, setting its backend may not work\n"
     ]
    },
    {
     "name": "stdout",
     "output_type": "stream",
     "text": [
      "Using pyFAI version: 2024.5.0\n"
     ]
    },
    {
     "data": {
      "text/plain": [
       "'#diffpy\\nimport diffpy\\nimport diffpy.pdfgetx\\nfrom diffpy.pdfgetx import PDFGetter, PDFConfig, loadData, Transformation'"
      ]
     },
     "execution_count": 2,
     "metadata": {},
     "output_type": "execute_result"
    }
   ],
   "source": [
    "#General Libraries\n",
    "import os\n",
    "import time\n",
    "import glob\n",
    "import copy\n",
    "import tomopy\n",
    "import pybaselines\n",
    "import numpy as np\n",
    "import pandas as pd\n",
    "import xarray as xr\n",
    "import PIL\n",
    "from PIL import Image\n",
    "import fabio\n",
    "from scipy.ndimage import median_filter\n",
    "#Matplotlib\n",
    "import matplotlib.pyplot as plt\n",
    "import matplotlib.gridspec as gridspec\n",
    "from matplotlib.pyplot import subplots\n",
    "#pyFAI\n",
    "import pyFAI\n",
    "from pyFAI.gui import jupyter\n",
    "import fabio\n",
    "from pyFAI.test.utilstest import UtilsTest\n",
    "from pyFAI.calibrant import CALIBRANT_FACTORY\n",
    "from pyFAI.goniometer import SingleGeometry\n",
    "from pyFAI.gui.jupyter.calib import Calibration\n",
    "print(f'Using pyFAI version: {pyFAI.version}')"
   ]
  },
  {
   "cell_type": "code",
   "execution_count": 3,
   "id": "7a0fb62e-4dcc-4019-89a3-45b6d1114a76",
   "metadata": {},
   "outputs": [],
   "source": [
    "class DSCT:\n",
    "    #the init method\n",
    "    def __init__(self, name):\n",
    "        self.name=name\n",
    "        \n",
    "    #1st instance variable \n",
    "    def set_data(self, path):\n",
    "        self.path = path\n",
    "        \n",
    "    def get_data(self):\n",
    "        return([os.path.basename(x) for x in sorted(glob.glob(self.path+\"*.nc\"))])\n",
    "        \n",
    "    \n",
    "    #2nd instance variable\n",
    "    def config(self, calibrant, mask):\n",
    "        self.calibrant = pyFAI.load(calibrant)\n",
    "        self.mask = fabio.open(mask).data\n",
    "        return(self.calibrant)\n",
    "\n",
    "    #3rd instance variable\n",
    "    def integrate(self, \n",
    "                  radial_range, #pass as 2-list e.g. [0,24]\n",
    "                  delta_q, #stepsize e.g. 0.0025\n",
    "                  data\n",
    "                 ):\n",
    "        \n",
    "        self.radial_range=radial_range\n",
    "        self.delta_q=delta_q\n",
    "        q = []\n",
    "        dsct = []\n",
    "        phi = []\n",
    "        x = []\n",
    "\n",
    "        for i in [self.path + x for x in data]:\n",
    "            with xr.open_dataset(i) as ds:\n",
    "                ds.load()\n",
    "            \n",
    "            print(ds.attrs['save_name'])    \n",
    "            phi_value = ds.attrs['mPhi']\n",
    "            phi.append(phi_value)\n",
    "            \n",
    "            x_value = ds['mBaseX'].data\n",
    "            x.append(x_value)\n",
    "            \n",
    "            intensities = []\n",
    "            \n",
    "            npt = int(np.ceil((self.radial_range[1] - self.radial_range[0]) / self.delta_q ))\n",
    "            radial_range = [self.radial_range[0],self.radial_range[0]+self.delta_q*npt]\n",
    "            \n",
    "            for j in x_value:\n",
    "                img = (ds.pe1_imgs.sel(mBaseX=j,method='nearest').astype('float32') - ds.pe1_img_dark.astype('float32')).values\n",
    "                img = median_filter(img, size=2)\n",
    "                \n",
    "                i2d = self.calibrant.integrate2d(data=img, npt_rad=npt, \n",
    "                                                 npt_azim=360,correctSolidAngle=True, \n",
    "                                                 radial_range=self.radial_range,\n",
    "                                                 mask=self.mask,dummy=np.NaN,\n",
    "                                                 method='bbox',unit='q_A^-1',\n",
    "                                                 safe=True, normalization_factor=1.0\n",
    "                                                )\n",
    "                da2d = xr.DataArray(data=i2d.intensity.astype('float32'),\n",
    "                                    coords=[i2d.azimuthal.astype('float32'),i2d.radial.astype('float32')],\n",
    "                                    dims=['azimuthal','radial'])\n",
    "                da1d = da2d.mean(dim='azimuthal')\n",
    "                q.append(da1d['radial'].data.tolist())\n",
    "                intensities.append(da1d.data.tolist())\n",
    "\n",
    "            intensities = [z for _, z in sorted(zip(x_value, intensities))]\n",
    "            dsct.append(intensities)\n",
    "        \n",
    "        q_space = np.array(q[0], dtype='f8')\n",
    "        i_obs = np.array(dsct, dtype='f8')\n",
    "        phi_obs = np.array(phi, dtype='f8')\n",
    "        x_obs = np.array(x[0], dtype='f8')\n",
    "        \n",
    "        DSCT = xr.Dataset(coords=dict(Q = (\"Q\", q_space), #q-space for xrd data in inverse angstroms\n",
    "                                      Phi = (\"Phi\", phi_obs), #rotational angle \n",
    "                                      X = (\"X\", x_obs) #translational x position\n",
    "                                     ),\n",
    "                          data_vars=dict(XRD_CT = ([\"Phi\", \"X\", \"Q\"], i_obs), #XRD-CT values\n",
    "                                        ),\n",
    "                          attrs=dict(Q_coordinate = \"Inverse Angstroms\",\n",
    "                                     Phi_coordinate = \"rotational degrees\",\n",
    "                                     X_coordinate = \"translation position\",\n",
    "                                     XRDCT_variable = \"Q-space CT values\"\n",
    "                                    ),\n",
    "                         )\n",
    "                \n",
    "        return(DSCT)"
   ]
  },
  {
   "cell_type": "markdown",
   "id": "bc2c99c7-b451-41a3-badb-0df2fd631b54",
   "metadata": {},
   "source": [
    "# User Input"
   ]
  },
  {
   "cell_type": "code",
   "execution_count": 11,
   "id": "176925d7-fb9e-4fc9-aa40-28f19ce50686",
   "metadata": {},
   "outputs": [],
   "source": [
    "xrdct_path = '/Volumes/ONolan 2TB/2024-3-XPD-data/04-overnight-MOF/data/XRD-CT/'"
   ]
  },
  {
   "cell_type": "markdown",
   "id": "1d80cbf4-b954-47e8-80b7-3ab875f3a502",
   "metadata": {},
   "source": [
    "# Data Importing, Integration, and Output to Tomography .nc File"
   ]
  },
  {
   "cell_type": "markdown",
   "id": "8c258c9f-69b0-4d57-8124-a32c711e1ee9",
   "metadata": {},
   "source": [
    "Import each .nc file, azimuthally integrate each ['px','py','mbase-x'] array and store in a .nc file suitable for tomographic reconstruction"
   ]
  },
  {
   "cell_type": "markdown",
   "id": "3e1fcea7-216a-4580-b45d-132523c86d07",
   "metadata": {},
   "source": [
    "## 14503-37  - Crystalline Monolith XRD-CT"
   ]
  },
  {
   "cell_type": "code",
   "execution_count": 93,
   "id": "3e5f495a-204c-4867-b696-c704cc61e057",
   "metadata": {
    "jupyter": {
     "source_hidden": true
    }
   },
   "outputs": [],
   "source": [
    "xmono_xrdct_project = DSCT('14503-37 XRD-CT')"
   ]
  },
  {
   "cell_type": "code",
   "execution_count": 95,
   "id": "cf9042eb-abb8-466d-9933-74a83572cef9",
   "metadata": {
    "jupyter": {
     "source_hidden": true
    }
   },
   "outputs": [],
   "source": [
    "xmono_xrdct_project.set_data(xrdct_path)\n",
    "xmono_xrdct_project_file_list = xmono_xrdct_project.get_data()"
   ]
  },
  {
   "cell_type": "code",
   "execution_count": 97,
   "id": "ca876cc4-4cfb-4ff5-9589-b44a56fa82a8",
   "metadata": {
    "collapsed": true,
    "jupyter": {
     "outputs_hidden": true,
     "source_hidden": true
    },
    "tags": []
   },
   "outputs": [
    {
     "data": {
      "text/plain": [
       "[]"
      ]
     },
     "execution_count": 97,
     "metadata": {},
     "output_type": "execute_result"
    }
   ],
   "source": [
    "xmono_xrdct_project_file_list"
   ]
  },
  {
   "cell_type": "code",
   "execution_count": null,
   "id": "d5a78ee0-23b9-4a7f-9de8-84b4b1681bc5",
   "metadata": {
    "jupyter": {
     "source_hidden": true
    },
    "tags": []
   },
   "outputs": [],
   "source": [
    "xmono_xrdct_project_file_list1 = xmono_xrdct_project_file_list[11:]\n",
    "xmono_xrdct_project_file_list1"
   ]
  },
  {
   "cell_type": "code",
   "execution_count": null,
   "id": "2c1b3658-7ebe-4f43-8c6a-35f6071ae80c",
   "metadata": {
    "jupyter": {
     "source_hidden": true
    }
   },
   "outputs": [],
   "source": [
    "xmono_xrdct_project_configuration = xmono_xrdct_project.config(xrd_ai_file,xrd_mask_file)\n",
    "xmono_xrdct_project_configuration"
   ]
  },
  {
   "cell_type": "code",
   "execution_count": null,
   "id": "e3dad04e-1504-4579-9ee6-8ea0188ed22c",
   "metadata": {
    "jupyter": {
     "source_hidden": true
    },
    "tags": []
   },
   "outputs": [],
   "source": [
    "xmono_xrdct_project_integration = xmono_xrdct_project.integrate(radial_range=[0.5,9.5],delta_q=0.005, data=xmono_xrdct_project_file_list1) #2240 10-4-2024\n",
    "xmono_xrdct_project_integration"
   ]
  },
  {
   "cell_type": "code",
   "execution_count": null,
   "id": "d8bf657d-cfcd-4396-bde1-c4fc9657f8df",
   "metadata": {
    "jupyter": {
     "source_hidden": true
    }
   },
   "outputs": [],
   "source": [
    "xmono_xrdct_project_integration.to_netcdf(out_path+'20231211_Dan_14503-37_CrystallineMonolith_XRDCT.nc')"
   ]
  }
 ],
 "metadata": {
  "kernelspec": {
   "display_name": "Python 3 (ipykernel)",
   "language": "python",
   "name": "python3"
  },
  "language_info": {
   "codemirror_mode": {
    "name": "ipython",
    "version": 3
   },
   "file_extension": ".py",
   "mimetype": "text/x-python",
   "name": "python",
   "nbconvert_exporter": "python",
   "pygments_lexer": "ipython3",
   "version": "3.7.12"
  }
 },
 "nbformat": 4,
 "nbformat_minor": 5
}
