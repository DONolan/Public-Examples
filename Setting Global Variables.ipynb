{
 "cells": [
  {
   "cell_type": "code",
   "execution_count": 1,
   "id": "7c5ca1a0-f7dd-40ec-a4a5-791109248b32",
   "metadata": {},
   "outputs": [],
   "source": [
    "from datetime import datetime\n",
    "import matplotlib as mpl\n",
    "import matplotlib.pyplot as plt\n",
    "import matplotlib.gridspec as gridspec\n",
    "from mpl_toolkits.axes_grid1.inset_locator import inset_axes\n",
    "import numpy as np\n",
    "import pandas as pd\n",
    "import os, glob\n",
    "import pathlib"
   ]
  },
  {
   "cell_type": "code",
   "execution_count": 2,
   "id": "a8b64740-7b9b-405e-9e83-6e5829f24a5b",
   "metadata": {},
   "outputs": [],
   "source": [
    "path = r'C:\\Users\\donolan\\OneDrive - Research Triangle Institute\\Documents\\CC4Carb\\Data\\FTIR\\Dan MOPs\\MOP-OH_NCO\\\\'"
   ]
  },
  {
   "cell_type": "code",
   "execution_count": 53,
   "id": "0e355095-70df-4f8f-9983-c773a9a377f6",
   "metadata": {},
   "outputs": [
    {
     "name": "stdout",
     "output_type": "stream",
     "text": [
      "df_0 = C:\\Users\\donolan\\OneDrive - Research Triangle Institute\\Documents\\CC4Carb\\Data\\FTIR\\Dan MOPs\\MOP-OH_NCO\\14503-47.csv\n",
      "df_1 = C:\\Users\\donolan\\OneDrive - Research Triangle Institute\\Documents\\CC4Carb\\Data\\FTIR\\Dan MOPs\\MOP-OH_NCO\\14503-48.csv\n",
      "df_2 = C:\\Users\\donolan\\OneDrive - Research Triangle Institute\\Documents\\CC4Carb\\Data\\FTIR\\Dan MOPs\\MOP-OH_NCO\\14503-49.csv\n",
      "df_3 = C:\\Users\\donolan\\OneDrive - Research Triangle Institute\\Documents\\CC4Carb\\Data\\FTIR\\Dan MOPs\\MOP-OH_NCO\\14503-79.csv\n",
      "df_4 = C:\\Users\\donolan\\OneDrive - Research Triangle Institute\\Documents\\CC4Carb\\Data\\FTIR\\Dan MOPs\\MOP-OH_NCO\\14503-80.csv\n",
      "df_5 = C:\\Users\\donolan\\OneDrive - Research Triangle Institute\\Documents\\CC4Carb\\Data\\FTIR\\Dan MOPs\\MOP-OH_NCO\\14503-81.csv\n",
      "df_6 = C:\\Users\\donolan\\OneDrive - Research Triangle Institute\\Documents\\CC4Carb\\Data\\FTIR\\Dan MOPs\\MOP-OH_NCO\\14503-82.csv\n",
      "df_7 = C:\\Users\\donolan\\OneDrive - Research Triangle Institute\\Documents\\CC4Carb\\Data\\FTIR\\Dan MOPs\\MOP-OH_NCO\\14503-83.csv\n",
      "df_8 = C:\\Users\\donolan\\OneDrive - Research Triangle Institute\\Documents\\CC4Carb\\Data\\FTIR\\Dan MOPs\\MOP-OH_NCO\\14503-84.csv\n",
      "df_9 = C:\\Users\\donolan\\OneDrive - Research Triangle Institute\\Documents\\CC4Carb\\Data\\FTIR\\Dan MOPs\\MOP-OH_NCO\\14503-85.csv\n",
      "df_10 = C:\\Users\\donolan\\OneDrive - Research Triangle Institute\\Documents\\CC4Carb\\Data\\FTIR\\Dan MOPs\\MOP-OH_NCO\\14503-86.csv\n",
      "df_11 = C:\\Users\\donolan\\OneDrive - Research Triangle Institute\\Documents\\CC4Carb\\Data\\FTIR\\Dan MOPs\\MOP-OH_NCO\\14503-87.csv\n",
      "df_12 = C:\\Users\\donolan\\OneDrive - Research Triangle Institute\\Documents\\CC4Carb\\Data\\FTIR\\Dan MOPs\\MOP-OH_NCO\\14503-88.csv\n",
      "df_13 = C:\\Users\\donolan\\OneDrive - Research Triangle Institute\\Documents\\CC4Carb\\Data\\FTIR\\Dan MOPs\\MOP-OH_NCO\\14503-89.csv\n",
      "df_14 = C:\\Users\\donolan\\OneDrive - Research Triangle Institute\\Documents\\CC4Carb\\Data\\FTIR\\Dan MOPs\\MOP-OH_NCO\\14503-90.csv\n",
      "df_15 = C:\\Users\\donolan\\OneDrive - Research Triangle Institute\\Documents\\CC4Carb\\Data\\FTIR\\Dan MOPs\\MOP-OH_NCO\\14503-91.csv\n",
      "df_16 = C:\\Users\\donolan\\OneDrive - Research Triangle Institute\\Documents\\CC4Carb\\Data\\FTIR\\Dan MOPs\\MOP-OH_NCO\\A-629-27 MOP-OH.csv\n",
      "df_17 = C:\\Users\\donolan\\OneDrive - Research Triangle Institute\\Documents\\CC4Carb\\Data\\FTIR\\Dan MOPs\\MOP-OH_NCO\\background.csv\n"
     ]
    }
   ],
   "source": [
    "file = glob.glob(path+'*csv')\n",
    "for i,j in enumerate(file):\n",
    "    globals()['df_'+str(i)] = pd.read_csv(j,header=1)\n",
    "    print('df_'+str(i)+' = '+str(j))"
   ]
  }
 ],
 "metadata": {
  "kernelspec": {
   "display_name": "Python 3 (ipykernel)",
   "language": "python",
   "name": "python3"
  },
  "language_info": {
   "codemirror_mode": {
    "name": "ipython",
    "version": 3
   },
   "file_extension": ".py",
   "mimetype": "text/x-python",
   "name": "python",
   "nbconvert_exporter": "python",
   "pygments_lexer": "ipython3",
   "version": "3.9.19"
  }
 },
 "nbformat": 4,
 "nbformat_minor": 5
}
