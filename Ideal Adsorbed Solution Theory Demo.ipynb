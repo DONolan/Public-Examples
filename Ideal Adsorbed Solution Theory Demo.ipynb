{
 "cells": [
  {
   "cell_type": "code",
   "execution_count": 1,
   "id": "5492a6bb-0a73-45bb-bb56-72ba02542ccf",
   "metadata": {},
   "outputs": [],
   "source": [
    "import pyiast\n",
    "import pygaps\n",
    "import pygaps.characterisation as pgc\n",
    "import pygaps.parsing as pgp\n",
    "import pygaps.modelling as pgm\n",
    "import pygaps.graphing as pgg\n",
    "from pygaps import iast\n",
    "import pandas as pd\n",
    "import numpy as np\n",
    "from datetime import datetime\n",
    "import os, glob\n",
    "import pathlib\n",
    "%matplotlib qt\n",
    "import matplotlib as mpl\n",
    "import matplotlib.pyplot as plt\n",
    "import matplotlib.gridspec as gridspec\n",
    "from mpl_toolkits.axes_grid1.inset_locator import inset_axes"
   ]
  },
  {
   "cell_type": "markdown",
   "id": "6e058ab1-edcc-41b6-bdfd-66317d1d1770",
   "metadata": {},
   "source": [
    "298 K \n",
    "\n",
    "CO2/N2 (400ppm, 1%, 4%, 15%)\n",
    "\n",
    "CO2/CH4 (1/99, 5/95, 50/50)"
   ]
  },
  {
   "cell_type": "code",
   "execution_count": 2,
   "id": "69ade0f8-279c-4c77-a03b-85d2ee4432aa",
   "metadata": {},
   "outputs": [
    {
     "data": {
      "text/html": [
       "<div>\n",
       "<style scoped>\n",
       "    .dataframe tbody tr th:only-of-type {\n",
       "        vertical-align: middle;\n",
       "    }\n",
       "\n",
       "    .dataframe tbody tr th {\n",
       "        vertical-align: top;\n",
       "    }\n",
       "\n",
       "    .dataframe thead th {\n",
       "        text-align: right;\n",
       "    }\n",
       "</style>\n",
       "<table border=\"1\" class=\"dataframe\">\n",
       "  <thead>\n",
       "    <tr style=\"text-align: right;\">\n",
       "      <th></th>\n",
       "      <th>CO2_x</th>\n",
       "      <th>CO2_y</th>\n",
       "      <th>N2_x</th>\n",
       "      <th>N2_y</th>\n",
       "      <th>CH4_x</th>\n",
       "      <th>CH4_y</th>\n",
       "    </tr>\n",
       "  </thead>\n",
       "  <tbody>\n",
       "    <tr>\n",
       "      <th>0</th>\n",
       "      <td>0.000095</td>\n",
       "      <td>0.362149</td>\n",
       "      <td>0.010438</td>\n",
       "      <td>0.000607</td>\n",
       "      <td>0.010125</td>\n",
       "      <td>0.000857</td>\n",
       "    </tr>\n",
       "    <tr>\n",
       "      <th>1</th>\n",
       "      <td>0.000189</td>\n",
       "      <td>0.657772</td>\n",
       "      <td>0.013310</td>\n",
       "      <td>0.000915</td>\n",
       "      <td>0.013362</td>\n",
       "      <td>0.001499</td>\n",
       "    </tr>\n",
       "    <tr>\n",
       "      <th>2</th>\n",
       "      <td>0.000496</td>\n",
       "      <td>0.934412</td>\n",
       "      <td>0.023167</td>\n",
       "      <td>0.002498</td>\n",
       "      <td>0.019811</td>\n",
       "      <td>0.002851</td>\n",
       "    </tr>\n",
       "    <tr>\n",
       "      <th>3</th>\n",
       "      <td>0.000695</td>\n",
       "      <td>1.075123</td>\n",
       "      <td>0.026699</td>\n",
       "      <td>0.002904</td>\n",
       "      <td>0.026665</td>\n",
       "      <td>0.004145</td>\n",
       "    </tr>\n",
       "    <tr>\n",
       "      <th>4</th>\n",
       "      <td>0.001008</td>\n",
       "      <td>1.204073</td>\n",
       "      <td>0.032961</td>\n",
       "      <td>0.003676</td>\n",
       "      <td>0.033150</td>\n",
       "      <td>0.005653</td>\n",
       "    </tr>\n",
       "  </tbody>\n",
       "</table>\n",
       "</div>"
      ],
      "text/plain": [
       "      CO2_x     CO2_y      N2_x      N2_y     CH4_x     CH4_y\n",
       "0  0.000095  0.362149  0.010438  0.000607  0.010125  0.000857\n",
       "1  0.000189  0.657772  0.013310  0.000915  0.013362  0.001499\n",
       "2  0.000496  0.934412  0.023167  0.002498  0.019811  0.002851\n",
       "3  0.000695  1.075123  0.026699  0.002904  0.026665  0.004145\n",
       "4  0.001008  1.204073  0.032961  0.003676  0.033150  0.005653"
      ]
     },
     "execution_count": 2,
     "metadata": {},
     "output_type": "execute_result"
    }
   ],
   "source": [
    "df = pd.read_csv('WO2F4_IAST.csv')\n",
    "\n",
    "CO2_298K = df[['CO2_x','CO2_y']]\n",
    "CO2_298K.columns = ['Pressure(bar)','Loading(mmol/g)']\n",
    "N2_298K = df[['N2_x','N2_y']]\n",
    "N2_298K.columns = ['Pressure(bar)','Loading(mmol/g)']\n",
    "CH4_298K = df[['CH4_x','CH4_y']]\n",
    "CH4_298K.columns = ['Pressure(bar)','Loading(mmol/g)']\n",
    "\n",
    "df.head()"
   ]
  },
  {
   "cell_type": "code",
   "execution_count": 3,
   "id": "7e45e010-0b30-44b1-9b22-7fc7e5a17579",
   "metadata": {},
   "outputs": [],
   "source": [
    "WO2F4_CO2 = pygaps.PointIsotherm(\n",
    "    pressure=CO2_298K['Pressure(bar)'].dropna().tolist(),  \n",
    "    loading=CO2_298K['Loading(mmol/g)'].dropna().tolist(),\n",
    "    m='WO2F4-1-Ni',a='carbon dioxide',t='298',\n",
    "    pressure_mode = 'absolute',pressure_unit = 'bar',material_basis = 'mass',\n",
    "    material_unit = 'g',loading_basis = 'molar',loading_unit = 'mmol',\n",
    "    temperature_unit = 'K'\n",
    ")\n",
    "\n",
    "WO2F4_N2 = pygaps.PointIsotherm(\n",
    "    pressure=N2_298K['Pressure(bar)'].dropna().tolist(),  \n",
    "    loading=N2_298K['Loading(mmol/g)'].dropna().tolist(),\n",
    "    m='WO2F4-1-Ni',a='nitrogen',t='298',\n",
    "    pressure_mode = 'absolute',pressure_unit = 'bar',material_basis = 'mass',\n",
    "    material_unit = 'g',loading_basis = 'molar',loading_unit = 'mmol',\n",
    "    temperature_unit = 'K'\n",
    ")\n",
    "\n",
    "WO2F4_CH4 = pygaps.PointIsotherm(\n",
    "    pressure=CH4_298K['Pressure(bar)'].dropna().tolist(),  \n",
    "    loading=CH4_298K['Loading(mmol/g)'].dropna().tolist(),\n",
    "    m='WO2F4-1-Ni',a='methane',t='298',\n",
    "    pressure_mode = 'absolute',pressure_unit = 'bar',material_basis = 'mass',\n",
    "    material_unit = 'g',loading_basis = 'molar',loading_unit = 'mmol',\n",
    "    temperature_unit = 'K'\n",
    ")"
   ]
  },
  {
   "cell_type": "code",
   "execution_count": 4,
   "id": "02b00f6e-98f7-4d66-bff0-12b94725dde4",
   "metadata": {},
   "outputs": [
    {
     "name": "stdout",
     "output_type": "stream",
     "text": [
      "Attempting to model using DSLangmuir.\n",
      "Model DSLangmuir success, RMSE is 0.0184\n",
      "DSLangmuir isotherm model.\n",
      "RMSE = 0.01844\n",
      "Model parameters:\n",
      "\tn_m1 = 0.1595\n",
      "\tK1 = 1.603\n",
      "\tn_m2 = 1.66\n",
      "\tK2 = 2840\n",
      "Model applicable range:\n",
      "\tPressure range: 9.45e-05 - 1\n",
      "\tLoading range: 0.362 - 1.76\n",
      "\n",
      "Attempting to model using Henry.\n",
      "Model Henry success, RMSE is 0.00192\n",
      "Henry isotherm model.\n",
      "RMSE = 0.001917\n",
      "Model parameters:\n",
      "\tK = 0.1288\n",
      "Model applicable range:\n",
      "\tPressure range: 0.0104 - 1\n",
      "\tLoading range: 0.000607 - 0.124\n",
      "\n",
      "Attempting to model using Henry.\n",
      "Model Henry success, RMSE is 0.00291\n",
      "Henry isotherm model.\n",
      "RMSE = 0.002906\n",
      "Model parameters:\n",
      "\tK = 0.1917\n",
      "Model applicable range:\n",
      "\tPressure range: 0.0101 - 1\n",
      "\tLoading range: 0.000857 - 0.185\n",
      "\n"
     ]
    }
   ],
   "source": [
    "co2_model = pgm.model_iso(WO2F4_CO2, model='DSLangmuir',verbose=True)\n",
    "print(co2_model.model)\n",
    "\n",
    "n2_model = pgm.model_iso(WO2F4_N2, model='Henry',verbose=True)\n",
    "print(n2_model.model)\n",
    "\n",
    "ch4_model = pgm.model_iso(WO2F4_CH4, model='Henry',verbose=True)\n",
    "print(ch4_model.model)"
   ]
  },
  {
   "cell_type": "code",
   "execution_count": 5,
   "id": "e4206ba0-c0ef-4d52-bd2c-034fe3f09df7",
   "metadata": {},
   "outputs": [
    {
     "name": "stdout",
     "output_type": "stream",
     "text": [
      "for a concentration of 0.04% CO2 in N2\n",
      "CO2/N2 selectivity = 23711.40 at 1 bar total pressure.\n",
      "for a concentration of 1.0% CO2 in N2\n",
      "CO2/N2 selectivity = 4288.31 at 1 bar total pressure.\n",
      "for a concentration of 4.0% CO2 in N2\n",
      "CO2/N2 selectivity = 1510.47 at 1 bar total pressure.\n",
      "for a concentration of 15.0% CO2 in N2\n",
      "CO2/N2 selectivity = 517.39 at 1 bar total pressure.\n"
     ]
    }
   ],
   "source": [
    "DAC_conc = 400/1000000\n",
    "ROOM_conc = 0.01\n",
    "NGCC_conc = 0.04\n",
    "FLUE_conc = 0.15\n",
    "\n",
    "CO2_concs = [DAC_conc, ROOM_conc, NGCC_conc, FLUE_conc]\n",
    "\n",
    "for i in CO2_concs:\n",
    "    results = pygaps.iast.pgiast.iast_binary_svp(isotherms=[co2_model,n2_model],\n",
    "                                                 mole_fractions=[i,1-i],\n",
    "                                                 pressures=list(np.linspace(0.1,1,100)),\n",
    "                                                 warningoff=True,\n",
    "                                                 verbose=True)\n",
    "    globals()['df_'+str(i)] = pd.DataFrame(results)\n",
    "    txt = globals()['df_'+str(i)]['selectivity'].iloc[-1]\n",
    "    print('for a concentration of '+str(i*100)+'% CO2 in N2')\n",
    "    print('CO2/N2 selectivity = '+f'{txt:.2f}'+' at 1 bar total pressure.')"
   ]
  },
  {
   "cell_type": "code",
   "execution_count": 6,
   "id": "21d8dd6f-120a-4d87-8a6f-406cbebecc31",
   "metadata": {},
   "outputs": [
    {
     "name": "stdout",
     "output_type": "stream",
     "text": [
      "for a concentration of 1.0% CO2 in CH4\n",
      "CO2/CH4 selectivity = 2858.93 at 1 bar total pressure.\n",
      "for a concentration of 5.0% CO2 in CH4\n",
      "CO2/CH4 selectivity = 845.72 at 1 bar total pressure.\n",
      "for a concentration of 50.0% CO2 in CH4\n",
      "CO2/CH4 selectivity = 125.85 at 1 bar total pressure.\n"
     ]
    }
   ],
   "source": [
    "CO2_1_99 = 0.01\n",
    "CO2_5_95 = 0.05\n",
    "CO2_1_1 = 0.5\n",
    "\n",
    "CO2_concs = [CO2_1_99,CO2_5_95,CO2_1_1]\n",
    "\n",
    "for i in CO2_concs:\n",
    "    results = pygaps.iast.pgiast.iast_binary_svp(isotherms=[co2_model,ch4_model],\n",
    "                                                 mole_fractions=[i,1-i],\n",
    "                                                 pressures=list(np.linspace(0.1,1,100)),\n",
    "                                                 warningoff=True,\n",
    "                                                 verbose=True)\n",
    "    globals()['df_'+str(i)] = pd.DataFrame(results)\n",
    "    txt = globals()['df_'+str(i)]['selectivity'].iloc[-1]\n",
    "    print('for a concentration of '+str(i*100)+'% CO2 in CH4')\n",
    "    print('CO2/CH4 selectivity = '+f'{txt:.2f}'+' at 1 bar total pressure.')"
   ]
  },
  {
   "cell_type": "code",
   "execution_count": null,
   "id": "52e92963-921c-4eaa-afbc-c17b7edfe121",
   "metadata": {},
   "outputs": [],
   "source": []
  }
 ],
 "metadata": {
  "kernelspec": {
   "display_name": "Python 3 (ipykernel)",
   "language": "python",
   "name": "python3"
  },
  "language_info": {
   "codemirror_mode": {
    "name": "ipython",
    "version": 3
   },
   "file_extension": ".py",
   "mimetype": "text/x-python",
   "name": "python",
   "nbconvert_exporter": "python",
   "pygments_lexer": "ipython3",
   "version": "3.9.7"
  }
 },
 "nbformat": 4,
 "nbformat_minor": 5
}
